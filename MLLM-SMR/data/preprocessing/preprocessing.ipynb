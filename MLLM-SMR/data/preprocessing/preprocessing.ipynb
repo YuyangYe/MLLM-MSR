{
 "cells": [
  {
   "cell_type": "code",
   "execution_count": 1,
   "metadata": {},
   "outputs": [
    {
     "data": {
      "text/plain": [
       "'/Users/yyykobe/PycharmProjects/MM_Rec/data/MicroLens-50k/sample_subset'"
      ]
     },
     "execution_count": 1,
     "metadata": {},
     "output_type": "execute_result"
    }
   ],
   "source": [
    "import os, csv\n",
    "import pandas as pd\n",
    "\n",
    "os.getcwd()"
   ]
  },
  {
   "cell_type": "code",
   "execution_count": 2,
   "metadata": {},
   "outputs": [
    {
     "name": "stdout",
     "output_type": "stream",
     "text": [
      "shape: (359708, 3)\n"
     ]
    },
    {
     "data": {
      "text/html": [
       "<div>\n",
       "<style scoped>\n",
       "    .dataframe tbody tr th:only-of-type {\n",
       "        vertical-align: middle;\n",
       "    }\n",
       "\n",
       "    .dataframe tbody tr th {\n",
       "        vertical-align: top;\n",
       "    }\n",
       "\n",
       "    .dataframe thead th {\n",
       "        text-align: right;\n",
       "    }\n",
       "</style>\n",
       "<table border=\"1\" class=\"dataframe\">\n",
       "  <thead>\n",
       "    <tr style=\"text-align: right;\">\n",
       "      <th></th>\n",
       "      <th>user</th>\n",
       "      <th>item</th>\n",
       "      <th>timestamp</th>\n",
       "    </tr>\n",
       "  </thead>\n",
       "  <tbody>\n",
       "    <tr>\n",
       "      <th>0</th>\n",
       "      <td>36121</td>\n",
       "      <td>9580</td>\n",
       "      <td>1583378629552</td>\n",
       "    </tr>\n",
       "    <tr>\n",
       "      <th>1</th>\n",
       "      <td>26572</td>\n",
       "      <td>9580</td>\n",
       "      <td>1583436719018</td>\n",
       "    </tr>\n",
       "    <tr>\n",
       "      <th>2</th>\n",
       "      <td>37550</td>\n",
       "      <td>9580</td>\n",
       "      <td>1584412681021</td>\n",
       "    </tr>\n",
       "    <tr>\n",
       "      <th>3</th>\n",
       "      <td>14601</td>\n",
       "      <td>9580</td>\n",
       "      <td>1584848802432</td>\n",
       "    </tr>\n",
       "    <tr>\n",
       "      <th>4</th>\n",
       "      <td>15061</td>\n",
       "      <td>9580</td>\n",
       "      <td>1585388171106</td>\n",
       "    </tr>\n",
       "  </tbody>\n",
       "</table>\n",
       "</div>"
      ],
      "text/plain": [
       "    user  item      timestamp\n",
       "0  36121  9580  1583378629552\n",
       "1  26572  9580  1583436719018\n",
       "2  37550  9580  1584412681021\n",
       "3  14601  9580  1584848802432\n",
       "4  15061  9580  1585388171106"
      ]
     },
     "execution_count": 2,
     "metadata": {},
     "output_type": "execute_result"
    }
   ],
   "source": [
    "df = pd.read_csv('../MicroLens-50k_pairs.csv')\n",
    "print(f'shape: {df.shape}')\n",
    "df[:5]"
   ]
  },
  {
   "cell_type": "code",
   "execution_count": 50,
   "metadata": {},
   "outputs": [],
   "source": [
    "from collections import Counter\n",
    "import numpy as np\n",
    "\n",
    "min_u_num, min_i_num = 7, 5\n",
    "\n",
    "def get_illegal_ids_by_inter_num(df, field, max_num=None, min_num=None):\n",
    "    if field is None:\n",
    "        return set()\n",
    "    if max_num is None and min_num is None:\n",
    "        return set()\n",
    "\n",
    "    max_num = max_num or np.inf\n",
    "    min_num = min_num or -1\n",
    "\n",
    "    ids = df[field].values\n",
    "    inter_num = Counter(ids)\n",
    "    ids = {id_ for id_ in inter_num if inter_num[id_] < min_num or inter_num[id_] > max_num}\n",
    "    print(f'{len(ids)} illegal_ids_by_inter_num, field={field}')\n",
    "\n",
    "    return ids\n",
    "\n",
    "\n",
    "def filter_by_k_core(df):\n",
    "    while True:\n",
    "        ban_users = get_illegal_ids_by_inter_num(df, field='user', max_num=None, min_num=min_u_num)\n",
    "        ban_items = get_illegal_ids_by_inter_num(df, field='item', max_num=None, min_num=min_i_num)\n",
    "        if len(ban_users) == 0 and len(ban_items) == 0:\n",
    "            return\n",
    "\n",
    "        dropped_inter = pd.Series(False, index=df.index)\n",
    "        if 'user':\n",
    "            dropped_inter |= df['user'].isin(ban_users)\n",
    "        if 'item':\n",
    "            dropped_inter |= df['item'].isin(ban_items)\n",
    "        print(f'{len(dropped_inter)} dropped interactions')\n",
    "        df.drop(df.index[dropped_inter], inplace=True)"
   ]
  },
  {
   "cell_type": "code",
   "execution_count": 51,
   "metadata": {},
   "outputs": [
    {
     "name": "stdout",
     "output_type": "stream",
     "text": [
      "9184 illegal_ids_by_inter_num, field=user\n",
      "0 illegal_ids_by_inter_num, field=item\n",
      "220472 dropped interactions\n",
      "0 illegal_ids_by_inter_num, field=user\n",
      "1634 illegal_ids_by_inter_num, field=item\n",
      "165368 dropped interactions\n",
      "1261 illegal_ids_by_inter_num, field=user\n",
      "0 illegal_ids_by_inter_num, field=item\n",
      "159739 dropped interactions\n",
      "0 illegal_ids_by_inter_num, field=user\n",
      "462 illegal_ids_by_inter_num, field=item\n",
      "152431 dropped interactions\n",
      "409 illegal_ids_by_inter_num, field=user\n",
      "0 illegal_ids_by_inter_num, field=item\n",
      "150685 dropped interactions\n",
      "0 illegal_ids_by_inter_num, field=user\n",
      "159 illegal_ids_by_inter_num, field=item\n",
      "148271 dropped interactions\n",
      "135 illegal_ids_by_inter_num, field=user\n",
      "0 illegal_ids_by_inter_num, field=item\n",
      "147648 dropped interactions\n",
      "0 illegal_ids_by_inter_num, field=user\n",
      "49 illegal_ids_by_inter_num, field=item\n",
      "146845 dropped interactions\n",
      "49 illegal_ids_by_inter_num, field=user\n",
      "0 illegal_ids_by_inter_num, field=item\n",
      "146650 dropped interactions\n",
      "0 illegal_ids_by_inter_num, field=user\n",
      "27 illegal_ids_by_inter_num, field=item\n",
      "146356 dropped interactions\n",
      "23 illegal_ids_by_inter_num, field=user\n",
      "0 illegal_ids_by_inter_num, field=item\n",
      "146250 dropped interactions\n",
      "0 illegal_ids_by_inter_num, field=user\n",
      "15 illegal_ids_by_inter_num, field=item\n",
      "146113 dropped interactions\n",
      "12 illegal_ids_by_inter_num, field=user\n",
      "0 illegal_ids_by_inter_num, field=item\n",
      "146053 dropped interactions\n",
      "0 illegal_ids_by_inter_num, field=user\n",
      "8 illegal_ids_by_inter_num, field=item\n",
      "145981 dropped interactions\n",
      "9 illegal_ids_by_inter_num, field=user\n",
      "0 illegal_ids_by_inter_num, field=item\n",
      "145949 dropped interactions\n",
      "0 illegal_ids_by_inter_num, field=user\n",
      "5 illegal_ids_by_inter_num, field=item\n",
      "145895 dropped interactions\n",
      "5 illegal_ids_by_inter_num, field=user\n",
      "0 illegal_ids_by_inter_num, field=item\n",
      "145875 dropped interactions\n",
      "0 illegal_ids_by_inter_num, field=user\n",
      "1 illegal_ids_by_inter_num, field=item\n",
      "145845 dropped interactions\n",
      "1 illegal_ids_by_inter_num, field=user\n",
      "0 illegal_ids_by_inter_num, field=item\n",
      "145841 dropped interactions\n",
      "0 illegal_ids_by_inter_num, field=user\n",
      "0 illegal_ids_by_inter_num, field=item\n",
      "k-core shape: (145835, 3)\n",
      "shape after k-core: (145835, 3)\n"
     ]
    },
    {
     "data": {
      "text/html": [
       "<div>\n",
       "<style scoped>\n",
       "    .dataframe tbody tr th:only-of-type {\n",
       "        vertical-align: middle;\n",
       "    }\n",
       "\n",
       "    .dataframe tbody tr th {\n",
       "        vertical-align: top;\n",
       "    }\n",
       "\n",
       "    .dataframe thead th {\n",
       "        text-align: right;\n",
       "    }\n",
       "</style>\n",
       "<table border=\"1\" class=\"dataframe\">\n",
       "  <thead>\n",
       "    <tr style=\"text-align: right;\">\n",
       "      <th></th>\n",
       "      <th>user</th>\n",
       "      <th>item</th>\n",
       "      <th>timestamp</th>\n",
       "    </tr>\n",
       "  </thead>\n",
       "  <tbody>\n",
       "    <tr>\n",
       "      <th>0</th>\n",
       "      <td>36121</td>\n",
       "      <td>9580</td>\n",
       "      <td>1583378629552</td>\n",
       "    </tr>\n",
       "    <tr>\n",
       "      <th>2</th>\n",
       "      <td>37550</td>\n",
       "      <td>9580</td>\n",
       "      <td>1584412681021</td>\n",
       "    </tr>\n",
       "    <tr>\n",
       "      <th>3</th>\n",
       "      <td>14601</td>\n",
       "      <td>9580</td>\n",
       "      <td>1584848802432</td>\n",
       "    </tr>\n",
       "    <tr>\n",
       "      <th>4</th>\n",
       "      <td>15061</td>\n",
       "      <td>9580</td>\n",
       "      <td>1585388171106</td>\n",
       "    </tr>\n",
       "    <tr>\n",
       "      <th>6</th>\n",
       "      <td>3542</td>\n",
       "      <td>9580</td>\n",
       "      <td>1585404918503</td>\n",
       "    </tr>\n",
       "  </tbody>\n",
       "</table>\n",
       "</div>"
      ],
      "text/plain": [
       "    user  item      timestamp\n",
       "0  36121  9580  1583378629552\n",
       "2  37550  9580  1584412681021\n",
       "3  14601  9580  1584848802432\n",
       "4  15061  9580  1585388171106\n",
       "6   3542  9580  1585404918503"
      ]
     },
     "execution_count": 51,
     "metadata": {},
     "output_type": "execute_result"
    }
   ],
   "source": [
    "filter_by_k_core(df)\n",
    "print(f'k-core shape: {df.shape}')\n",
    "print(f'shape after k-core: {df.shape}')\n",
    "df[:5]"
   ]
  },
  {
   "cell_type": "code",
   "execution_count": 52,
   "metadata": {},
   "outputs": [
    {
     "name": "stdout",
     "output_type": "stream",
     "text": [
      "14323\n",
      "9535\n"
     ]
    }
   ],
   "source": [
    "print(df['user'].nunique())\n",
    "print(df['item'].nunique())"
   ]
  },
  {
   "cell_type": "code",
   "execution_count": 42,
   "metadata": {},
   "outputs": [
    {
     "name": "stdout",
     "output_type": "stream",
     "text": [
      "25411\n"
     ]
    }
   ],
   "source": [
    "import pandas as pd\n",
    "import numpy as np\n",
    "\n",
    "# 假设df是原始DataFrame，包含'user', 'item', 'timestamp'列\n",
    "\n",
    "# 计算整个数据集中每个item的出现频率\n",
    "item_frequency = df.groupby('item').size().reset_index(name='frequency')\n",
    "\n",
    "# 对频率进行降序排序\n",
    "item_frequency_sorted = item_frequency.sort_values(by='frequency', ascending=False)\n",
    "\n",
    "# 对原始DataFrame根据timestamp进行排序\n",
    "df_sorted = df.sort_values('timestamp')\n",
    "\n",
    "# 获取所有独特的items和users\n",
    "all_items = set(df_sorted['item'].unique())\n",
    "all_users = df_sorted['user'].unique()\n",
    "\n",
    "# 生成Negative Samples\n",
    "negative_samples_per_user = {}\n",
    "for user in all_users:\n",
    "    user_items = df_sorted[df_sorted['user'] == user]['item'].unique()\n",
    "    available_items = list(all_items - set(user_items))\n",
    "    negative_samples = np.random.choice(available_items, size=min(20, len(available_items)), replace=False)\n",
    "    negative_samples_per_user[user] = negative_samples\n",
    "\n",
    "print(len(negative_samples_per_user.keys()))"
   ]
  },
  {
   "cell_type": "code",
   "execution_count": 44,
   "metadata": {},
   "outputs": [],
   "source": [
    "top_6_items_per_user = {}\n",
    "for user in all_users:\n",
    "    # 获取用户互动过的所有items\n",
    "    user_items = df_sorted[df_sorted['user'] == user]['item']\n",
    "    # 基于全局频率排序这些items，并取前6个\n",
    "    top_6_items = user_items.map(item_frequency_sorted.set_index('item')['frequency']).sort_values(ascending=False).index[:6]\n",
    "    top_6_items_per_user[user] = df_sorted.loc[top_6_items, 'item'].values"
   ]
  },
  {
   "cell_type": "code",
   "execution_count": 47,
   "metadata": {},
   "outputs": [],
   "source": [
    "lines = []\n",
    "for user in all_users:\n",
    "    top_items_str = ', '.join([str(item) for item in top_6_items_per_user[user]])\n",
    "    negative_samples_str = ', '.join([str(item) for item in negative_samples_per_user[user]])\n",
    "    # 格式化每行数据\n",
    "    line = f\"{user}\\t{top_items_str}\\t{negative_samples_str}\"\n",
    "    lines.append(line)\n",
    "\n",
    "tsv_file_path = 'user_items_negs.tsv'\n",
    "with open(tsv_file_path, 'w') as file:\n",
    "    file.write('\\n'.join(lines))"
   ]
  },
  {
   "cell_type": "code",
   "execution_count": 48,
   "metadata": {},
   "outputs": [
    {
     "name": "stdout",
     "output_type": "stream",
     "text": [
      "Training data size: 20328\n",
      "Validation data size: 2541\n",
      "Test data size: 2542\n"
     ]
    }
   ],
   "source": [
    "from sklearn.model_selection import train_test_split\n",
    "\n",
    "tsv_file_path = 'user_items_negs.tsv'\n",
    "data = pd.read_csv(tsv_file_path, sep='\\t', header=None, names=['user', 'items', 'negative_samples'])\n",
    "\n",
    "users = data['user'].unique()\n",
    "\n",
    "train_users, test_val_users = train_test_split(users, test_size=0.2, random_state=42)\n",
    "\n",
    "val_users, test_users = train_test_split(test_val_users, test_size=0.5, random_state=42)\n",
    "\n",
    "train_data = data[data['user'].isin(train_users)]\n",
    "val_data = data[data['user'].isin(val_users)]\n",
    "test_data = data[data['user'].isin(test_users)]\n",
    "\n",
    "print(f\"Training data size: {len(train_data)}\")\n",
    "print(f\"Validation data size: {len(val_data)}\")\n",
    "print(f\"Test data size: {len(test_data)}\")"
   ]
  },
  {
   "cell_type": "code",
   "execution_count": 49,
   "metadata": {},
   "outputs": [
    {
     "name": "stdout",
     "output_type": "stream",
     "text": [
      "File saved to train.tsv\n",
      "File saved to val.tsv\n",
      "File saved to test.tsv\n"
     ]
    }
   ],
   "source": [
    "def save_to_tsv(df, file_path):\n",
    "    df.to_csv(file_path, sep='\\t', header=False, index=False)\n",
    "    print(f\"File saved to {file_path}\")\n",
    "\n",
    "# 按照原格式保存分割后的数据\n",
    "save_to_tsv(train_data, 'train.tsv')\n",
    "save_to_tsv(val_data, 'val.tsv')\n",
    "save_to_tsv(test_data, 'test.tsv')\n"
   ]
  },
  {
   "cell_type": "code",
   "execution_count": null,
   "metadata": {},
   "outputs": [],
   "source": []
  }
 ],
 "metadata": {
  "kernelspec": {
   "display_name": "Python 3 (ipykernel)",
   "language": "python",
   "name": "python3"
  },
  "language_info": {
   "codemirror_mode": {
    "name": "ipython",
    "version": 3
   },
   "file_extension": ".py",
   "mimetype": "text/x-python",
   "name": "python",
   "nbconvert_exporter": "python",
   "pygments_lexer": "ipython3",
   "version": "3.8.10"
  }
 },
 "nbformat": 4,
 "nbformat_minor": 4
}